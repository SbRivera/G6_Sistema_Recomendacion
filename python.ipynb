{
 "cells": [
  {
   "cell_type": "code",
   "execution_count": 3,
   "metadata": {},
   "outputs": [
    {
     "name": "stdout",
     "output_type": "stream",
     "text": [
      "Defaulting to user installation because normal site-packages is not writeable\n",
      "Collecting pandas\n",
      "  Using cached pandas-2.2.2-cp312-cp312-win_amd64.whl.metadata (19 kB)\n",
      "Collecting numpy>=1.26.0 (from pandas)\n",
      "  Using cached numpy-2.1.0-cp312-cp312-win_amd64.whl.metadata (59 kB)\n",
      "Requirement already satisfied: python-dateutil>=2.8.2 in c:\\users\\sebas\\appdata\\local\\packages\\pythonsoftwarefoundation.python.3.12_qbz5n2kfra8p0\\localcache\\local-packages\\python312\\site-packages (from pandas) (2.9.0.post0)\n",
      "Collecting pytz>=2020.1 (from pandas)\n",
      "  Using cached pytz-2024.1-py2.py3-none-any.whl.metadata (22 kB)\n",
      "Collecting tzdata>=2022.7 (from pandas)\n",
      "  Using cached tzdata-2024.1-py2.py3-none-any.whl.metadata (1.4 kB)\n",
      "Requirement already satisfied: six>=1.5 in c:\\users\\sebas\\appdata\\local\\packages\\pythonsoftwarefoundation.python.3.12_qbz5n2kfra8p0\\localcache\\local-packages\\python312\\site-packages (from python-dateutil>=2.8.2->pandas) (1.16.0)\n",
      "Using cached pandas-2.2.2-cp312-cp312-win_amd64.whl (11.5 MB)\n",
      "Using cached numpy-2.1.0-cp312-cp312-win_amd64.whl (12.6 MB)\n",
      "Using cached pytz-2024.1-py2.py3-none-any.whl (505 kB)\n",
      "Using cached tzdata-2024.1-py2.py3-none-any.whl (345 kB)\n",
      "Installing collected packages: pytz, tzdata, numpy, pandas\n",
      "Successfully installed numpy-2.1.0 pandas-2.2.2 pytz-2024.1 tzdata-2024.1\n",
      "Note: you may need to restart the kernel to use updated packages.\n"
     ]
    }
   ],
   "source": [
    "pip install pandas"
   ]
  },
  {
   "cell_type": "code",
   "execution_count": 5,
   "metadata": {},
   "outputs": [
    {
     "name": "stdout",
     "output_type": "stream",
     "text": [
      "   anime_id                                          anime_url  \\\n",
      "0      2366  https://myanimelist.net/anime/2366/Touma_Kishi...   \n",
      "1      4940  https://myanimelist.net/anime/4940/Sabaku_no_K...   \n",
      "2     50285  https://myanimelist.net/anime/50285/On_Air_Dek...   \n",
      "3      3975  https://myanimelist.net/anime/3975/Uchi_no_3_S...   \n",
      "4     36036    https://myanimelist.net/anime/36036/Running_Man   \n",
      "\n",
      "                              title  \\\n",
      "0               Touma Kishinden Oni   \n",
      "1  Sabaku no Kaizoku! Captain Kuppa   \n",
      "2                   On Air Dekinai!   \n",
      "3                  Uchi no 3 Shimai   \n",
      "4                       Running Man   \n",
      "\n",
      "                                            synopsis  \\\n",
      "0  Shuramaru is hated and feared by the villagers...   \n",
      "1  Sometime in the future, the world was complete...   \n",
      "2  Set in 2014, the anime follows the adventures ...   \n",
      "3  The daily life of the Motsumoto family. The th...   \n",
      "4  The Soul Tree, the great source of our race.  ...   \n",
      "\n",
      "                                            main_pic type source_type  \\\n",
      "0  https://cdn.myanimelist.net/images/anime/9/829...   TV        Game   \n",
      "1  https://cdn.myanimelist.net/images/anime/9/736...   TV       Manga   \n",
      "2  https://cdn.myanimelist.net/images/anime/1021/...   TV       Manga   \n",
      "3  https://cdn.myanimelist.net/images/anime/1631/...   TV       Other   \n",
      "4  https://cdn.myanimelist.net/images/anime/1325/...   TV       Other   \n",
      "\n",
      "   num_episodes            status           start_date  ... score_08_count  \\\n",
      "0          25.0   Finished Airing  1995-10-05 00:00:00  ...              0   \n",
      "1          26.0   Finished Airing  2001-08-13 00:00:00  ...              0   \n",
      "2          12.0  Currently Airing  2022-01-10 00:00:00  ...              0   \n",
      "3         102.0   Finished Airing  2008-04-08 00:00:00  ...              0   \n",
      "4          48.0   Finished Airing  2017-07-29 00:00:00  ...              0   \n",
      "\n",
      "  score_07_count score_06_count score_05_count  score_04_count  \\\n",
      "0              0              0              0               0   \n",
      "1              0              0              0               0   \n",
      "2              0              0              0               0   \n",
      "3              0              0              0               0   \n",
      "4              0              0              0               0   \n",
      "\n",
      "   score_03_count  score_02_count  score_01_count            clubs  \\\n",
      "0               0               0               0  14045|10778|342   \n",
      "1               0               0               0             8494   \n",
      "2               0               0               0       27907|8652   \n",
      "3               0               0               0            69895   \n",
      "4               0               0               0            41909   \n",
      "\n",
      "                                                pics  \n",
      "0  https://cdn.myanimelist.net/images/anime/9/544...  \n",
      "1  https://cdn.myanimelist.net/images/anime/9/736...  \n",
      "2  https://cdn.myanimelist.net/images/anime/1021/...  \n",
      "3  https://cdn.myanimelist.net/images/anime/3/716...  \n",
      "4  https://cdn.myanimelist.net/images/anime/1325/...  \n",
      "\n",
      "[5 rows x 38 columns]\n"
     ]
    }
   ],
   "source": [
    "import pandas as pd\n",
    "\n",
    "df = pd.read_csv('anime.csv', delimiter='\\t')\n",
    "print(df.head())  \n"
   ]
  },
  {
   "cell_type": "code",
   "execution_count": 6,
   "metadata": {},
   "outputs": [],
   "source": [
    "df.dropna(inplace=True)\n"
   ]
  },
  {
   "cell_type": "code",
   "execution_count": 8,
   "metadata": {},
   "outputs": [
    {
     "name": "stdout",
     "output_type": "stream",
     "text": [
      "Defaulting to user installation because normal site-packages is not writeable\n",
      "Collecting scikit-learn\n",
      "  Using cached scikit_learn-1.5.1-cp312-cp312-win_amd64.whl.metadata (12 kB)\n",
      "Requirement already satisfied: numpy>=1.19.5 in c:\\users\\sebas\\appdata\\local\\packages\\pythonsoftwarefoundation.python.3.12_qbz5n2kfra8p0\\localcache\\local-packages\\python312\\site-packages (from scikit-learn) (2.1.0)\n",
      "Collecting scipy>=1.6.0 (from scikit-learn)\n",
      "  Using cached scipy-1.14.1-cp312-cp312-win_amd64.whl.metadata (60 kB)\n",
      "Collecting joblib>=1.2.0 (from scikit-learn)\n",
      "  Using cached joblib-1.4.2-py3-none-any.whl.metadata (5.4 kB)\n",
      "Collecting threadpoolctl>=3.1.0 (from scikit-learn)\n",
      "  Using cached threadpoolctl-3.5.0-py3-none-any.whl.metadata (13 kB)\n",
      "Using cached scikit_learn-1.5.1-cp312-cp312-win_amd64.whl (10.9 MB)\n",
      "Using cached joblib-1.4.2-py3-none-any.whl (301 kB)\n",
      "Using cached scipy-1.14.1-cp312-cp312-win_amd64.whl (44.5 MB)\n",
      "Using cached threadpoolctl-3.5.0-py3-none-any.whl (18 kB)\n",
      "Installing collected packages: threadpoolctl, scipy, joblib, scikit-learn\n",
      "Successfully installed joblib-1.4.2 scikit-learn-1.5.1 scipy-1.14.1 threadpoolctl-3.5.0\n",
      "Note: you may need to restart the kernel to use updated packages.\n"
     ]
    }
   ],
   "source": [
    "pip install scikit-learn\n"
   ]
  },
  {
   "cell_type": "code",
   "execution_count": 12,
   "metadata": {},
   "outputs": [],
   "source": [
    "anime_matrix = df.pivot_table(index='anime_id', values='score')\n"
   ]
  },
  {
   "cell_type": "code",
   "execution_count": 13,
   "metadata": {},
   "outputs": [],
   "source": [
    "from sklearn.metrics.pairwise import cosine_similarity\n",
    "\n",
    "anime_similarity = cosine_similarity(anime_matrix)\n"
   ]
  },
  {
   "cell_type": "code",
   "execution_count": 14,
   "metadata": {},
   "outputs": [
    {
     "name": "stdout",
     "output_type": "stream",
     "text": [
      "['Kagewani', 'R-15', 'School Rumble', 'Re:Zero kara Hajimeru Isekai Seikatsu 2nd Season Part 2', 'Shigatsu wa Kimi no Uso']\n"
     ]
    }
   ],
   "source": [
    "def recommend_anime(anime_id, num_recommendations=5):\n",
    "    idx = df[df['anime_id'] == anime_id].index[0]\n",
    "    similarity_scores = list(enumerate(anime_similarity[idx]))\n",
    "    similarity_scores = sorted(similarity_scores, key=lambda x: x[1], reverse=True)\n",
    "    recommended_animes = [df.iloc[i[0]]['title'] for i in similarity_scores[1:num_recommendations+1]]\n",
    "    return recommended_animes\n",
    "\n",
    "print(recommend_anime(1, 5))  \n"
   ]
  },
  {
   "cell_type": "code",
   "execution_count": 16,
   "metadata": {},
   "outputs": [],
   "source": [
    "anime_data = pd.read_csv('anime.csv', delimiter='\\t')\n"
   ]
  },
  {
   "cell_type": "code",
   "execution_count": null,
   "metadata": {},
   "outputs": [],
   "source": []
  }
 ],
 "metadata": {
  "kernelspec": {
   "display_name": "Python 3",
   "language": "python",
   "name": "python3"
  },
  "language_info": {
   "codemirror_mode": {
    "name": "ipython",
    "version": 3
   },
   "file_extension": ".py",
   "mimetype": "text/x-python",
   "name": "python",
   "nbconvert_exporter": "python",
   "pygments_lexer": "ipython3",
   "version": "3.12.5"
  }
 },
 "nbformat": 4,
 "nbformat_minor": 2
}
